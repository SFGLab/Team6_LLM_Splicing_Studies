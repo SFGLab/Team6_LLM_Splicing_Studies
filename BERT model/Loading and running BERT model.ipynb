{
 "cells": [
  {
   "cell_type": "code",
   "execution_count": 23,
   "id": "844917d0-676d-4505-a5bd-87cb6b280e2c",
   "metadata": {},
   "outputs": [],
   "source": [
    "SPLICEBERT_PATH = \"C:/Users/radek/Downloads/models.tar/models/models/SpliceBERT.1024nt\" # this has to be changed, model weigths are avaiable on the github page\n",
    "import torch\n",
    "from transformers import AutoTokenizer, AutoModel, AutoModelForMaskedLM, AutoModelForTokenClassification,AutoModelForSequenceClassification,BertForSequenceClassification\n"
   ]
  },
  {
   "cell_type": "code",
   "execution_count": 18,
   "id": "6753beff-54e9-4db8-bb46-d43fd4ba9b71",
   "metadata": {},
   "outputs": [],
   "source": [
    "tokenizer = AutoTokenizer.from_pretrained(SPLICEBERT_PATH)"
   ]
  },
  {
   "cell_type": "code",
   "execution_count": 19,
   "id": "4487eae8-fac9-475f-9c7b-d1f44694cafe",
   "metadata": {},
   "outputs": [],
   "source": [
    "seq = \"ACGUACGuacguaCGu\"  ## WARNING: this is just a demo. SpliceBERT may not work on sequences shorter than 64nt as it was trained on sequences of 64-1024nt in length\n",
    "seq = ' '.join(list(seq.upper().replace(\"U\", \"T\"))) # U -> T and add whitespace\n",
    "input_ids = tokenizer.encode(seq) # N -> 5, A -> 6, C -> 7, G -> 8, T(U) -> 9. NOTE: a [CLS] and a [SEP] token will be added to the start and the end of seq\n",
    "input_ids = torch.as_tensor(input_ids) # convert python list to Tensor\n",
    "input_ids = input_ids.unsqueeze(0) # add batch dimension, shape: (batch_size, sequence_length)"
   ]
  },
  {
   "cell_type": "code",
   "execution_count": 24,
   "id": "8cfd2738-2b0e-49b5-aa8d-5f6cda549dc9",
   "metadata": {},
   "outputs": [
    {
     "name": "stderr",
     "output_type": "stream",
     "text": [
      "Some weights of BertForSequenceClassification were not initialized from the model checkpoint at C:/Users/radek/Downloads/models.tar/models/models/SpliceBERT.1024nt and are newly initialized: ['bert.pooler.dense.bias', 'bert.pooler.dense.weight', 'classifier.bias', 'classifier.weight']\n",
      "You should probably TRAIN this model on a down-stream task to be able to use it for predictions and inference.\n"
     ]
    }
   ],
   "source": [
    "#model for classification cancerous or not, but without the fine tuning yet\n",
    "model = BertForSequenceClassification.from_pretrained(\n",
    "    \"C:/Users/radek/Downloads/models.tar/models/models/SpliceBERT.1024nt\",\n",
    "    num_labels=2  # binary classification\n",
    ")"
   ]
  },
  {
   "cell_type": "code",
   "execution_count": 25,
   "id": "22fb4789-917b-4ed1-afb0-d5fb5de9e763",
   "metadata": {},
   "outputs": [],
   "source": [
    "#tokenizing the data, BERT model runs on tokenized data. \n",
    "def kmer_tokenize(sequence, k=3):\n",
    "    return ' '.join([sequence[i:i+k] for i in range(len(sequence) - k + 1)])"
   ]
  },
  {
   "cell_type": "code",
   "execution_count": 26,
   "id": "f3609122-f4b3-45a0-8b8d-94594b14691e",
   "metadata": {},
   "outputs": [],
   "source": [
    "from torch.utils.data import Dataset\n",
    "import torch\n",
    "\n",
    "class DNADataset(Dataset):\n",
    "    def __init__(self, sequences, labels, tokenizer, k=3):\n",
    "        self.sequences = sequences\n",
    "        self.labels = labels\n",
    "        self.tokenizer = tokenizer\n",
    "        self.k = k\n",
    "\n",
    "    def __len__(self):\n",
    "        return len(self.sequences)\n",
    "\n",
    "    def __getitem__(self, idx):\n",
    "        sequence = self.sequences[idx]\n",
    "        kmer_seq = ' '.join([sequence[i:i+self.k] for i in range(len(sequence) - self.k + 1)])\n",
    "        inputs = self.tokenizer(kmer_seq, padding='max_length', truncation=True, max_length=512, return_tensors=\"pt\")\n",
    "        item = {key: val.squeeze(0) for key, val in inputs.items()}\n",
    "        item['labels'] = torch.tensor(self.labels[idx])\n",
    "        return item"
   ]
  },
  {
   "cell_type": "code",
   "execution_count": null,
   "id": "215bcd63-3854-4d5f-84e9-506a32b4d84b",
   "metadata": {},
   "outputs": [],
   "source": []
  }
 ],
 "metadata": {
  "kernelspec": {
   "display_name": "Python 3 (ipykernel)",
   "language": "python",
   "name": "python3"
  },
  "language_info": {
   "codemirror_mode": {
    "name": "ipython",
    "version": 3
   },
   "file_extension": ".py",
   "mimetype": "text/x-python",
   "name": "python",
   "nbconvert_exporter": "python",
   "pygments_lexer": "ipython3",
   "version": "3.11.7"
  }
 },
 "nbformat": 4,
 "nbformat_minor": 5
}
